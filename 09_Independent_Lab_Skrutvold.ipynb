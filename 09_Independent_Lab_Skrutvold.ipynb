{
 "cells": [
  {
   "cell_type": "markdown",
   "id": "58b33313-df51-4aee-9a8a-02dd83d85787",
   "metadata": {},
   "source": [
    "## Week 9 Independent Lab: Inferential Stats\n",
    "Author: Aerionna Skrutvold  \n",
    "Course: BGEN632 Grad. Intro to Python  \n",
    "\n",
    "The purpose for this assignment is to conduct a Linear and Multiple Regression. The program primarily makes use of the [ect_data.txt](/data/ect_data.txt) dataset files contained within the data folder."
   ]
  },
  {
   "cell_type": "markdown",
   "id": "ee7bf547-a699-48a2-ac87-0a4b4aff556d",
   "metadata": {},
   "source": [
    "## Import Modules "
   ]
  },
  {
   "cell_type": "code",
   "execution_count": 11,
   "id": "8c864cab-a897-4612-86bb-d3c6d42af61a",
   "metadata": {},
   "outputs": [],
   "source": [
    "import os\n",
    "import pandas as pd\n",
    "import numpy as np\n",
    "import matplotlib.pyplot as plt\n",
    "import scipy.stats as sts # for QQ plot\n",
    "from scipy.stats import pearsonr # correlation p-values\n",
    "import statsmodels.formula.api as smf\n",
    "from sklearn.linear_model import LinearRegression # regression output"
   ]
  },
  {
   "cell_type": "markdown",
   "id": "5ccfd7d4-b1c9-4669-9d83-a14be5b207e7",
   "metadata": {},
   "source": [
    "## Set Working Directory"
   ]
  },
  {
   "cell_type": "code",
   "execution_count": 12,
   "id": "85cbc80f-aac1-47a7-a4c3-be69c816b799",
   "metadata": {},
   "outputs": [],
   "source": [
    "os.chdir(\"C:/Users/gcassist/Desktop/MSBA/Spring 25/Python/week9labs/data\")"
   ]
  },
  {
   "cell_type": "markdown",
   "id": "5cb9bfa9-ac78-416e-98b6-1034f18afa37",
   "metadata": {},
   "source": [
    "## Access Data"
   ]
  },
  {
   "cell_type": "code",
   "execution_count": 4,
   "id": "425b5ec2-9d89-4c90-a474-86b4993a513d",
   "metadata": {},
   "outputs": [],
   "source": [
    "ect_data = pd.read_csv(\"ect_data.txt\", sep=\"\\t\", engine=\"python\", header=0) "
   ]
  },
  {
   "cell_type": "code",
   "execution_count": 5,
   "id": "2f47defd-0982-46be-9832-ffbedb33d865",
   "metadata": {},
   "outputs": [
    {
     "data": {
      "text/plain": [
       "<bound method DataFrame.info of      attitude1_01  attitude1_02  attitude1_03  attitude1_04  intent1_01  \\\n",
       "0               6             6             6             6           6   \n",
       "1               7             7             7             7           7   \n",
       "2               6             6             6             6           7   \n",
       "3               7             7             7             7           6   \n",
       "4               7             7             6             6           7   \n",
       "..            ...           ...           ...           ...         ...   \n",
       "196             6             6             6             7           7   \n",
       "197             5             6             6             6           7   \n",
       "198             6             5             6             6           5   \n",
       "199             6             6             6             6           6   \n",
       "200             7             7             6             7           7   \n",
       "\n",
       "     intent1_02  intent1_03  intent1_04  peruse01  peruse02  peruse03  \\\n",
       "0             6           6           6         6         4         5   \n",
       "1             7           7           7         7         7         7   \n",
       "2             7           7           7         6         5         5   \n",
       "3             6           7           6         5         5         5   \n",
       "4             7           7           6         6         6         7   \n",
       "..          ...         ...         ...       ...       ...       ...   \n",
       "196           6           7           6         6         5         5   \n",
       "197           7           7           7         7         7         6   \n",
       "198           6           6           5         6         5         6   \n",
       "199           7           6           6         6         6         7   \n",
       "200           7           7           7         7         7         7   \n",
       "\n",
       "     peruse04  satis01  satis02  satis03  satis04  \n",
       "0           5        5        5        5        5  \n",
       "1           7        7        6        6        6  \n",
       "2           5        5        5        5        5  \n",
       "3           5        7        6        7        6  \n",
       "4           7        6        6        6        6  \n",
       "..        ...      ...      ...      ...      ...  \n",
       "196         5        6        6        6        5  \n",
       "197         6        6        4        4        6  \n",
       "198         5        5        5        6        5  \n",
       "199         7        5        5        6        5  \n",
       "200         7        7        7        7        7  \n",
       "\n",
       "[201 rows x 16 columns]>"
      ]
     },
     "execution_count": 5,
     "metadata": {},
     "output_type": "execute_result"
    }
   ],
   "source": [
    "ect_data.info # inspect the data"
   ]
  },
  {
   "cell_type": "code",
   "execution_count": 6,
   "id": "f9314601-44c0-466a-998d-657e888d451b",
   "metadata": {},
   "outputs": [
    {
     "data": {
      "text/plain": [
       "Index(['attitude1_01', 'attitude1_02', 'attitude1_03', 'attitude1_04',\n",
       "       'intent1_01', 'intent1_02', 'intent1_03', 'intent1_04', 'peruse01',\n",
       "       'peruse02', 'peruse03', 'peruse04', 'satis01', 'satis02', 'satis03',\n",
       "       'satis04'],\n",
       "      dtype='object')"
      ]
     },
     "execution_count": 6,
     "metadata": {},
     "output_type": "execute_result"
    }
   ],
   "source": [
    "ect_data.columns"
   ]
  },
  {
   "cell_type": "code",
   "execution_count": 7,
   "id": "8952468a-81a7-4cd5-9256-f5ee816d1f24",
   "metadata": {},
   "outputs": [
    {
     "data": {
      "text/plain": [
       "attitude1_01    int64\n",
       "attitude1_02    int64\n",
       "attitude1_03    int64\n",
       "attitude1_04    int64\n",
       "intent1_01      int64\n",
       "intent1_02      int64\n",
       "intent1_03      int64\n",
       "intent1_04      int64\n",
       "peruse01        int64\n",
       "peruse02        int64\n",
       "peruse03        int64\n",
       "peruse04        int64\n",
       "satis01         int64\n",
       "satis02         int64\n",
       "satis03         int64\n",
       "satis04         int64\n",
       "dtype: object"
      ]
     },
     "execution_count": 7,
     "metadata": {},
     "output_type": "execute_result"
    }
   ],
   "source": [
    "ect_data.dtypes # Check data type "
   ]
  },
  {
   "cell_type": "markdown",
   "id": "bec7e4ba-1d99-47fc-911b-f3e3a161b0b8",
   "metadata": {},
   "source": [
    "## Create Linear Regression "
   ]
  },
  {
   "cell_type": "code",
   "execution_count": 27,
   "id": "bfce93d5-1236-43b9-8ace-aa3883790b81",
   "metadata": {},
   "outputs": [
    {
     "data": {
      "text/html": [
       "<table class=\"simpletable\">\n",
       "<caption>OLS Regression Results</caption>\n",
       "<tr>\n",
       "  <th>Dep. Variable:</th>       <td>intent1_01</td>    <th>  R-squared:         </th> <td>   0.473</td>\n",
       "</tr>\n",
       "<tr>\n",
       "  <th>Model:</th>                   <td>OLS</td>       <th>  Adj. R-squared:    </th> <td>   0.459</td>\n",
       "</tr>\n",
       "<tr>\n",
       "  <th>Method:</th>             <td>Least Squares</td>  <th>  F-statistic:       </th> <td>   34.95</td>\n",
       "</tr>\n",
       "<tr>\n",
       "  <th>Date:</th>             <td>Wed, 23 Apr 2025</td> <th>  Prob (F-statistic):</th> <td>1.96e-25</td>\n",
       "</tr>\n",
       "<tr>\n",
       "  <th>Time:</th>                 <td>11:26:19</td>     <th>  Log-Likelihood:    </th> <td> -224.36</td>\n",
       "</tr>\n",
       "<tr>\n",
       "  <th>No. Observations:</th>      <td>   201</td>      <th>  AIC:               </th> <td>   460.7</td>\n",
       "</tr>\n",
       "<tr>\n",
       "  <th>Df Residuals:</th>          <td>   195</td>      <th>  BIC:               </th> <td>   480.5</td>\n",
       "</tr>\n",
       "<tr>\n",
       "  <th>Df Model:</th>              <td>     5</td>      <th>                     </th>     <td> </td>   \n",
       "</tr>\n",
       "<tr>\n",
       "  <th>Covariance Type:</th>      <td>nonrobust</td>    <th>                     </th>     <td> </td>   \n",
       "</tr>\n",
       "</table>\n",
       "<table class=\"simpletable\">\n",
       "<tr>\n",
       "        <td></td>          <th>coef</th>     <th>std err</th>      <th>t</th>      <th>P>|t|</th>  <th>[0.025</th>    <th>0.975]</th>  \n",
       "</tr>\n",
       "<tr>\n",
       "  <th>Intercept</th>    <td>    1.4957</td> <td>    0.368</td> <td>    4.063</td> <td> 0.000</td> <td>    0.770</td> <td>    2.222</td>\n",
       "</tr>\n",
       "<tr>\n",
       "  <th>attitude1_03</th> <td>    0.1153</td> <td>    0.100</td> <td>    1.153</td> <td> 0.250</td> <td>   -0.082</td> <td>    0.312</td>\n",
       "</tr>\n",
       "<tr>\n",
       "  <th>attitude1_04</th> <td>    0.0915</td> <td>    0.104</td> <td>    0.877</td> <td> 0.382</td> <td>   -0.114</td> <td>    0.297</td>\n",
       "</tr>\n",
       "<tr>\n",
       "  <th>peruse01</th>     <td>    0.3364</td> <td>    0.058</td> <td>    5.848</td> <td> 0.000</td> <td>    0.223</td> <td>    0.450</td>\n",
       "</tr>\n",
       "<tr>\n",
       "  <th>satis01</th>      <td>    0.2116</td> <td>    0.100</td> <td>    2.113</td> <td> 0.036</td> <td>    0.014</td> <td>    0.409</td>\n",
       "</tr>\n",
       "<tr>\n",
       "  <th>satis02</th>      <td>    0.0627</td> <td>    0.096</td> <td>    0.652</td> <td> 0.515</td> <td>   -0.127</td> <td>    0.252</td>\n",
       "</tr>\n",
       "</table>\n",
       "<table class=\"simpletable\">\n",
       "<tr>\n",
       "  <th>Omnibus:</th>       <td>49.871</td> <th>  Durbin-Watson:     </th> <td>   2.040</td>\n",
       "</tr>\n",
       "<tr>\n",
       "  <th>Prob(Omnibus):</th> <td> 0.000</td> <th>  Jarque-Bera (JB):  </th> <td> 191.297</td>\n",
       "</tr>\n",
       "<tr>\n",
       "  <th>Skew:</th>          <td>-0.916</td> <th>  Prob(JB):          </th> <td>2.89e-42</td>\n",
       "</tr>\n",
       "<tr>\n",
       "  <th>Kurtosis:</th>      <td> 7.414</td> <th>  Cond. No.          </th> <td>    90.9</td>\n",
       "</tr>\n",
       "</table><br/><br/>Notes:<br/>[1] Standard Errors assume that the covariance matrix of the errors is correctly specified."
      ],
      "text/latex": [
       "\\begin{center}\n",
       "\\begin{tabular}{lclc}\n",
       "\\toprule\n",
       "\\textbf{Dep. Variable:}    &   intent1\\_01    & \\textbf{  R-squared:         } &     0.473   \\\\\n",
       "\\textbf{Model:}            &       OLS        & \\textbf{  Adj. R-squared:    } &     0.459   \\\\\n",
       "\\textbf{Method:}           &  Least Squares   & \\textbf{  F-statistic:       } &     34.95   \\\\\n",
       "\\textbf{Date:}             & Wed, 23 Apr 2025 & \\textbf{  Prob (F-statistic):} &  1.96e-25   \\\\\n",
       "\\textbf{Time:}             &     11:26:19     & \\textbf{  Log-Likelihood:    } &   -224.36   \\\\\n",
       "\\textbf{No. Observations:} &         201      & \\textbf{  AIC:               } &     460.7   \\\\\n",
       "\\textbf{Df Residuals:}     &         195      & \\textbf{  BIC:               } &     480.5   \\\\\n",
       "\\textbf{Df Model:}         &           5      & \\textbf{                     } &             \\\\\n",
       "\\textbf{Covariance Type:}  &    nonrobust     & \\textbf{                     } &             \\\\\n",
       "\\bottomrule\n",
       "\\end{tabular}\n",
       "\\begin{tabular}{lcccccc}\n",
       "                       & \\textbf{coef} & \\textbf{std err} & \\textbf{t} & \\textbf{P$> |$t$|$} & \\textbf{[0.025} & \\textbf{0.975]}  \\\\\n",
       "\\midrule\n",
       "\\textbf{Intercept}     &       1.4957  &        0.368     &     4.063  &         0.000        &        0.770    &        2.222     \\\\\n",
       "\\textbf{attitude1\\_03} &       0.1153  &        0.100     &     1.153  &         0.250        &       -0.082    &        0.312     \\\\\n",
       "\\textbf{attitude1\\_04} &       0.0915  &        0.104     &     0.877  &         0.382        &       -0.114    &        0.297     \\\\\n",
       "\\textbf{peruse01}      &       0.3364  &        0.058     &     5.848  &         0.000        &        0.223    &        0.450     \\\\\n",
       "\\textbf{satis01}       &       0.2116  &        0.100     &     2.113  &         0.036        &        0.014    &        0.409     \\\\\n",
       "\\textbf{satis02}       &       0.0627  &        0.096     &     0.652  &         0.515        &       -0.127    &        0.252     \\\\\n",
       "\\bottomrule\n",
       "\\end{tabular}\n",
       "\\begin{tabular}{lclc}\n",
       "\\textbf{Omnibus:}       & 49.871 & \\textbf{  Durbin-Watson:     } &    2.040  \\\\\n",
       "\\textbf{Prob(Omnibus):} &  0.000 & \\textbf{  Jarque-Bera (JB):  } &  191.297  \\\\\n",
       "\\textbf{Skew:}          & -0.916 & \\textbf{  Prob(JB):          } & 2.89e-42  \\\\\n",
       "\\textbf{Kurtosis:}      &  7.414 & \\textbf{  Cond. No.          } &     90.9  \\\\\n",
       "\\bottomrule\n",
       "\\end{tabular}\n",
       "%\\caption{OLS Regression Results}\n",
       "\\end{center}\n",
       "\n",
       "Notes: \\newline\n",
       " [1] Standard Errors assume that the covariance matrix of the errors is correctly specified."
      ],
      "text/plain": [
       "<class 'statsmodels.iolib.summary.Summary'>\n",
       "\"\"\"\n",
       "                            OLS Regression Results                            \n",
       "==============================================================================\n",
       "Dep. Variable:             intent1_01   R-squared:                       0.473\n",
       "Model:                            OLS   Adj. R-squared:                  0.459\n",
       "Method:                 Least Squares   F-statistic:                     34.95\n",
       "Date:                Wed, 23 Apr 2025   Prob (F-statistic):           1.96e-25\n",
       "Time:                        11:26:19   Log-Likelihood:                -224.36\n",
       "No. Observations:                 201   AIC:                             460.7\n",
       "Df Residuals:                     195   BIC:                             480.5\n",
       "Df Model:                           5                                         \n",
       "Covariance Type:            nonrobust                                         \n",
       "================================================================================\n",
       "                   coef    std err          t      P>|t|      [0.025      0.975]\n",
       "--------------------------------------------------------------------------------\n",
       "Intercept        1.4957      0.368      4.063      0.000       0.770       2.222\n",
       "attitude1_03     0.1153      0.100      1.153      0.250      -0.082       0.312\n",
       "attitude1_04     0.0915      0.104      0.877      0.382      -0.114       0.297\n",
       "peruse01         0.3364      0.058      5.848      0.000       0.223       0.450\n",
       "satis01          0.2116      0.100      2.113      0.036       0.014       0.409\n",
       "satis02          0.0627      0.096      0.652      0.515      -0.127       0.252\n",
       "==============================================================================\n",
       "Omnibus:                       49.871   Durbin-Watson:                   2.040\n",
       "Prob(Omnibus):                  0.000   Jarque-Bera (JB):              191.297\n",
       "Skew:                          -0.916   Prob(JB):                     2.89e-42\n",
       "Kurtosis:                       7.414   Cond. No.                         90.9\n",
       "==============================================================================\n",
       "\n",
       "Notes:\n",
       "[1] Standard Errors assume that the covariance matrix of the errors is correctly specified.\n",
       "\"\"\""
      ]
     },
     "execution_count": 27,
     "metadata": {},
     "output_type": "execute_result"
    }
   ],
   "source": [
    "lin_reg = smf.ols('intent1_01 ~ attitude1_03 + attitude1_04 + peruse01 + satis01 + satis02', ect_data).fit()\n",
    "\n",
    "lin_reg.summary()"
   ]
  },
  {
   "cell_type": "markdown",
   "id": "6ec8f1b8-4e6e-49aa-b48c-1af615731e4e",
   "metadata": {},
   "source": [
    "## Assess Linearity"
   ]
  },
  {
   "cell_type": "code",
   "execution_count": 20,
   "id": "00d95414-9916-416b-9eb2-0584ac8c242b",
   "metadata": {},
   "outputs": [
    {
     "data": {
      "text/plain": [
       "<Axes: xlabel='attitude1_04', ylabel='intent1_01'>"
      ]
     },
     "execution_count": 20,
     "metadata": {},
     "output_type": "execute_result"
    },
    {
     "data": {
      "image/png": "[encoded data removed]",
      "text/plain": [
       "<Figure size 640x480 with 1 Axes>"
      ]
     },
     "metadata": {},
     "output_type": "display_data"
    }
   ],
   "source": [
    "ect_data.plot.scatter(x='attitude1_04', y='intent1_01')"
   ]
  },
  {
   "cell_type": "markdown",
   "id": "fa2525dd-f1ea-4807-a6cc-ae09d8e8e08c",
   "metadata": {},
   "source": [
    "This data does not show consistentcies in the data with being linear. "
   ]
  },
  {
   "cell_type": "code",
   "execution_count": 21,
   "id": "21df4e97-a163-467d-b48e-e08ecf4f2175",
   "metadata": {},
   "outputs": [
    {
     "data": {
      "text/plain": [
       "<Axes: xlabel='attitude1_03', ylabel='intent1_01'>"
      ]
     },
     "execution_count": 21,
     "metadata": {},
     "output_type": "execute_result"
    },
    {
     "data": {
      "image/png": "[encoded data removed]",
      "text/plain": [
       "<Figure size 640x480 with 1 Axes>"
      ]
     },
     "metadata": {},
     "output_type": "display_data"
    }
   ],
   "source": [
    "ect_data.plot.scatter(x='attitude1_03', y='intent1_01')"
   ]
  },
  {
   "cell_type": "markdown",
   "id": "5ffdf955-37e6-4874-b83e-789744ea1802",
   "metadata": {},
   "source": [
    "This data does not show consistentcies in the data with being linear. "
   ]
  },
  {
   "cell_type": "code",
   "execution_count": 22,
   "id": "54d5dced-da68-4b34-851d-9d81146114d2",
   "metadata": {},
   "outputs": [
    {
     "data": {
      "text/plain": [
       "<Axes: xlabel='peruse01', ylabel='intent1_01'>"
      ]
     },
     "execution_count": 22,
     "metadata": {},
     "output_type": "execute_result"
    },
    {
     "data": {
      "image/png": "[encoded data removed]",
      "text/plain": [
       "<Figure size 640x480 with 1 Axes>"
      ]
     },
     "metadata": {},
     "output_type": "display_data"
    }
   ],
   "source": [
    "ect_data.plot.scatter(x='peruse01', y='intent1_01')"
   ]
  },
  {
   "cell_type": "markdown",
   "id": "06e1c820-2eea-4ccd-a91e-f67762b1ef9b",
   "metadata": {},
   "source": [
    "This data does not show consistentcies in the data with being linear. "
   ]
  },
  {
   "cell_type": "code",
   "execution_count": 23,
   "id": "fed7521c-e51e-4b46-9a33-bbfdac246a30",
   "metadata": {},
   "outputs": [
    {
     "data": {
      "text/plain": [
       "<Axes: xlabel='satis01', ylabel='intent1_01'>"
      ]
     },
     "execution_count": 23,
     "metadata": {},
     "output_type": "execute_result"
    },
    {
     "data": {
      "image/png": "[encoded data removed]",
      "text/plain": [
       "<Figure size 640x480 with 1 Axes>"
      ]
     },
     "metadata": {},
     "output_type": "display_data"
    }
   ],
   "source": [
    "ect_data.plot.scatter(x='satis01', y='intent1_01')"
   ]
  },
  {
   "cell_type": "markdown",
   "id": "caf49489-1fa1-4933-8b79-033ba1f6a9c7",
   "metadata": {},
   "source": [
    "This data does not show consistentcies in the data with being linear. "
   ]
  },
  {
   "cell_type": "code",
   "execution_count": 24,
   "id": "85fe617c-618b-4174-8818-df3ffa838ca3",
   "metadata": {},
   "outputs": [
    {
     "data": {
      "text/plain": [
       "<Axes: xlabel='satis02', ylabel='intent1_01'>"
      ]
     },
     "execution_count": 24,
     "metadata": {},
     "output_type": "execute_result"
    },
    {
     "data": {
      "image/png": "[encoded data removed]",
      "text/plain": [
       "<Figure size 640x480 with 1 Axes>"
      ]
     },
     "metadata": {},
     "output_type": "display_data"
    }
   ],
   "source": [
    "ect_data.plot.scatter(x='satis02', y='intent1_01')"
   ]
  },
  {
   "cell_type": "markdown",
   "id": "29349766-0727-4f9a-af87-18281ba45766",
   "metadata": {},
   "source": [
    "This data does not show consistentcies in the data with being linear. "
   ]
  },
  {
   "cell_type": "markdown",
   "id": "91fcf8cc-71d5-40b2-94ee-503cd41d35f1",
   "metadata": {},
   "source": [
    "## Assess Collinearity"
   ]
  },
  {
   "cell_type": "code",
   "execution_count": 28,
   "id": "2139671f-92ba-4367-bb8e-d6590eb81986",
   "metadata": {},
   "outputs": [
    {
     "data": {
      "text/plain": [
       "PearsonRResult(statistic=0.519098567478697, pvalue=2.9068684515866345e-15)"
      ]
     },
     "execution_count": 28,
     "metadata": {},
     "output_type": "execute_result"
    }
   ],
   "source": [
    "pearsonr(ect_data.attitude1_03, ect_data.intent1_01)"
   ]
  },
  {
   "cell_type": "markdown",
   "id": "be524e4e-303e-4aaf-93bb-5ffe88450593",
   "metadata": {},
   "source": [
    "The results indicate a moderate positive relationship between intent1_01 and attitude1_03. "
   ]
  },
  {
   "cell_type": "code",
   "execution_count": 29,
   "id": "a6330312-a948-4921-981e-bb4bf5cc99cc",
   "metadata": {},
   "outputs": [
    {
     "data": {
      "text/plain": [
       "PearsonRResult(statistic=0.5120316317108964, pvalue=7.907993696942252e-15)"
      ]
     },
     "execution_count": 29,
     "metadata": {},
     "output_type": "execute_result"
    }
   ],
   "source": [
    "pearsonr(ect_data.attitude1_04, ect_data.intent1_01)"
   ]
  },
  {
   "cell_type": "markdown",
   "id": "6767efc4-3812-4418-aac8-716894c6bb7c",
   "metadata": {},
   "source": [
    "The results indicate a moderate positive relationship between intent1_01 and attitude1_04."
   ]
  },
  {
   "cell_type": "code",
   "execution_count": 30,
   "id": "62112fa8-f044-4533-a5ef-735e123d6d15",
   "metadata": {},
   "outputs": [
    {
     "data": {
      "text/plain": [
       "PearsonRResult(statistic=0.5666422098085825, pvalue=1.8194427998723604e-18)"
      ]
     },
     "execution_count": 30,
     "metadata": {},
     "output_type": "execute_result"
    }
   ],
   "source": [
    "pearsonr(ect_data.peruse01, ect_data.intent1_01)"
   ]
  },
  {
   "cell_type": "markdown",
   "id": "90cafe1d-92f7-4625-909e-4659a8b65c80",
   "metadata": {},
   "source": [
    "The results indicate a moderate positive relationship between intent1_01 and peruse01."
   ]
  },
  {
   "cell_type": "code",
   "execution_count": 31,
   "id": "64d82ca6-4944-4dcd-bd15-7cdd82b529e5",
   "metadata": {},
   "outputs": [
    {
     "data": {
      "text/plain": [
       "PearsonRResult(statistic=0.545688440252472, pvalue=5.425059701904438e-17)"
      ]
     },
     "execution_count": 31,
     "metadata": {},
     "output_type": "execute_result"
    }
   ],
   "source": [
    "pearsonr(ect_data.satis01, ect_data.intent1_01)"
   ]
  },
  {
   "cell_type": "markdown",
   "id": "b23508be-a27d-44e7-a9c9-563b0be6204b",
   "metadata": {},
   "source": [
    "The results indicate a moderate positive relationship between intent1_01 and satis01."
   ]
  },
  {
   "cell_type": "code",
   "execution_count": 32,
   "id": "86b8528d-1a51-43c7-982d-0d6e8eee95be",
   "metadata": {},
   "outputs": [
    {
     "data": {
      "text/plain": [
       "PearsonRResult(statistic=0.5005337666384355, pvalue=3.838024308081e-14)"
      ]
     },
     "execution_count": 32,
     "metadata": {},
     "output_type": "execute_result"
    }
   ],
   "source": [
    "pearsonr(ect_data.satis02, ect_data.intent1_01)"
   ]
  },
  {
   "cell_type": "markdown",
   "id": "0cd2d3fc-4ad9-4618-b46c-35d53fdac7e0",
   "metadata": {},
   "source": [
    "The results indicate a moderate positive relationship between intent1_01 and satis02."
   ]
  },
  {
   "cell_type": "markdown",
   "id": "2cb9de0a-9b4b-4300-a844-51feab43b998",
   "metadata": {},
   "source": [
    "## Assess Homoscedasticity"
   ]
  },
  {
   "cell_type": "code",
   "execution_count": 17,
   "id": "5fcd3023-f5a1-4927-ad25-123fb5a12304",
   "metadata": {},
   "outputs": [
    {
     "data": {
      "image/png": "[encoded data removed]",
      "text/plain": [
       "<Figure size 640x480 with 1 Axes>"
      ]
     },
     "metadata": {},
     "output_type": "display_data"
    }
   ],
   "source": [
    "plt.scatter(lin_reg.fittedvalues, lin_reg.resid)\n",
    "plt.xlabel('Predicted/Fitted Values')\n",
    "plt.ylabel('Residual Values')\n",
    "plt.title('Assessing Homoscedasticity')\n",
    "plt.plot([-40, 120],[0, 0], 'red', lw=2)   # add red horizontal line\n",
    "plt.show()"
   ]
  },
  {
   "cell_type": "markdown",
   "id": "dd369503-2917-445f-baa8-85dbe769bf8e",
   "metadata": {},
   "source": [
    "## Assess Independence "
   ]
  },
  {
   "cell_type": "code",
   "execution_count": 25,
   "id": "f32325b5-19b3-4d63-8a22-8385bd123f2e",
   "metadata": {},
   "outputs": [
    {
     "data": {
      "text/html": [
       "<table class=\"simpletable\">\n",
       "<caption>OLS Regression Results</caption>\n",
       "<tr>\n",
       "  <th>Dep. Variable:</th>       <td>intent1_01</td>    <th>  R-squared:         </th> <td>   0.473</td>\n",
       "</tr>\n",
       "<tr>\n",
       "  <th>Model:</th>                   <td>OLS</td>       <th>  Adj. R-squared:    </th> <td>   0.459</td>\n",
       "</tr>\n",
       "<tr>\n",
       "  <th>Method:</th>             <td>Least Squares</td>  <th>  F-statistic:       </th> <td>   34.95</td>\n",
       "</tr>\n",
       "<tr>\n",
       "  <th>Date:</th>             <td>Wed, 23 Apr 2025</td> <th>  Prob (F-statistic):</th> <td>1.96e-25</td>\n",
       "</tr>\n",
       "<tr>\n",
       "  <th>Time:</th>                 <td>11:16:41</td>     <th>  Log-Likelihood:    </th> <td> -224.36</td>\n",
       "</tr>\n",
       "<tr>\n",
       "  <th>No. Observations:</th>      <td>   201</td>      <th>  AIC:               </th> <td>   460.7</td>\n",
       "</tr>\n",
       "<tr>\n",
       "  <th>Df Residuals:</th>          <td>   195</td>      <th>  BIC:               </th> <td>   480.5</td>\n",
       "</tr>\n",
       "<tr>\n",
       "  <th>Df Model:</th>              <td>     5</td>      <th>                     </th>     <td> </td>   \n",
       "</tr>\n",
       "<tr>\n",
       "  <th>Covariance Type:</th>      <td>nonrobust</td>    <th>                     </th>     <td> </td>   \n",
       "</tr>\n",
       "</table>\n",
       "<table class=\"simpletable\">\n",
       "<tr>\n",
       "        <td></td>          <th>coef</th>     <th>std err</th>      <th>t</th>      <th>P>|t|</th>  <th>[0.025</th>    <th>0.975]</th>  \n",
       "</tr>\n",
       "<tr>\n",
       "  <th>Intercept</th>    <td>    1.4957</td> <td>    0.368</td> <td>    4.063</td> <td> 0.000</td> <td>    0.770</td> <td>    2.222</td>\n",
       "</tr>\n",
       "<tr>\n",
       "  <th>attitude1_03</th> <td>    0.1153</td> <td>    0.100</td> <td>    1.153</td> <td> 0.250</td> <td>   -0.082</td> <td>    0.312</td>\n",
       "</tr>\n",
       "<tr>\n",
       "  <th>attitude1_04</th> <td>    0.0915</td> <td>    0.104</td> <td>    0.877</td> <td> 0.382</td> <td>   -0.114</td> <td>    0.297</td>\n",
       "</tr>\n",
       "<tr>\n",
       "  <th>peruse01</th>     <td>    0.3364</td> <td>    0.058</td> <td>    5.848</td> <td> 0.000</td> <td>    0.223</td> <td>    0.450</td>\n",
       "</tr>\n",
       "<tr>\n",
       "  <th>satis01</th>      <td>    0.2116</td> <td>    0.100</td> <td>    2.113</td> <td> 0.036</td> <td>    0.014</td> <td>    0.409</td>\n",
       "</tr>\n",
       "<tr>\n",
       "  <th>satis02</th>      <td>    0.0627</td> <td>    0.096</td> <td>    0.652</td> <td> 0.515</td> <td>   -0.127</td> <td>    0.252</td>\n",
       "</tr>\n",
       "</table>\n",
       "<table class=\"simpletable\">\n",
       "<tr>\n",
       "  <th>Omnibus:</th>       <td>49.871</td> <th>  Durbin-Watson:     </th> <td>   2.040</td>\n",
       "</tr>\n",
       "<tr>\n",
       "  <th>Prob(Omnibus):</th> <td> 0.000</td> <th>  Jarque-Bera (JB):  </th> <td> 191.297</td>\n",
       "</tr>\n",
       "<tr>\n",
       "  <th>Skew:</th>          <td>-0.916</td> <th>  Prob(JB):          </th> <td>2.89e-42</td>\n",
       "</tr>\n",
       "<tr>\n",
       "  <th>Kurtosis:</th>      <td> 7.414</td> <th>  Cond. No.          </th> <td>    90.9</td>\n",
       "</tr>\n",
       "</table><br/><br/>Notes:<br/>[1] Standard Errors assume that the covariance matrix of the errors is correctly specified."
      ],
      "text/latex": [
       "\\begin{center}\n",
       "\\begin{tabular}{lclc}\n",
       "\\toprule\n",
       "\\textbf{Dep. Variable:}    &   intent1\\_01    & \\textbf{  R-squared:         } &     0.473   \\\\\n",
       "\\textbf{Model:}            &       OLS        & \\textbf{  Adj. R-squared:    } &     0.459   \\\\\n",
       "\\textbf{Method:}           &  Least Squares   & \\textbf{  F-statistic:       } &     34.95   \\\\\n",
       "\\textbf{Date:}             & Wed, 23 Apr 2025 & \\textbf{  Prob (F-statistic):} &  1.96e-25   \\\\\n",
       "\\textbf{Time:}             &     11:16:41     & \\textbf{  Log-Likelihood:    } &   -224.36   \\\\\n",
       "\\textbf{No. Observations:} &         201      & \\textbf{  AIC:               } &     460.7   \\\\\n",
       "\\textbf{Df Residuals:}     &         195      & \\textbf{  BIC:               } &     480.5   \\\\\n",
       "\\textbf{Df Model:}         &           5      & \\textbf{                     } &             \\\\\n",
       "\\textbf{Covariance Type:}  &    nonrobust     & \\textbf{                     } &             \\\\\n",
       "\\bottomrule\n",
       "\\end{tabular}\n",
       "\\begin{tabular}{lcccccc}\n",
       "                       & \\textbf{coef} & \\textbf{std err} & \\textbf{t} & \\textbf{P$> |$t$|$} & \\textbf{[0.025} & \\textbf{0.975]}  \\\\\n",
       "\\midrule\n",
       "\\textbf{Intercept}     &       1.4957  &        0.368     &     4.063  &         0.000        &        0.770    &        2.222     \\\\\n",
       "\\textbf{attitude1\\_03} &       0.1153  &        0.100     &     1.153  &         0.250        &       -0.082    &        0.312     \\\\\n",
       "\\textbf{attitude1\\_04} &       0.0915  &        0.104     &     0.877  &         0.382        &       -0.114    &        0.297     \\\\\n",
       "\\textbf{peruse01}      &       0.3364  &        0.058     &     5.848  &         0.000        &        0.223    &        0.450     \\\\\n",
       "\\textbf{satis01}       &       0.2116  &        0.100     &     2.113  &         0.036        &        0.014    &        0.409     \\\\\n",
       "\\textbf{satis02}       &       0.0627  &        0.096     &     0.652  &         0.515        &       -0.127    &        0.252     \\\\\n",
       "\\bottomrule\n",
       "\\end{tabular}\n",
       "\\begin{tabular}{lclc}\n",
       "\\textbf{Omnibus:}       & 49.871 & \\textbf{  Durbin-Watson:     } &    2.040  \\\\\n",
       "\\textbf{Prob(Omnibus):} &  0.000 & \\textbf{  Jarque-Bera (JB):  } &  191.297  \\\\\n",
       "\\textbf{Skew:}          & -0.916 & \\textbf{  Prob(JB):          } & 2.89e-42  \\\\\n",
       "\\textbf{Kurtosis:}      &  7.414 & \\textbf{  Cond. No.          } &     90.9  \\\\\n",
       "\\bottomrule\n",
       "\\end{tabular}\n",
       "%\\caption{OLS Regression Results}\n",
       "\\end{center}\n",
       "\n",
       "Notes: \\newline\n",
       " [1] Standard Errors assume that the covariance matrix of the errors is correctly specified."
      ],
      "text/plain": [
       "<class 'statsmodels.iolib.summary.Summary'>\n",
       "\"\"\"\n",
       "                            OLS Regression Results                            \n",
       "==============================================================================\n",
       "Dep. Variable:             intent1_01   R-squared:                       0.473\n",
       "Model:                            OLS   Adj. R-squared:                  0.459\n",
       "Method:                 Least Squares   F-statistic:                     34.95\n",
       "Date:                Wed, 23 Apr 2025   Prob (F-statistic):           1.96e-25\n",
       "Time:                        11:16:41   Log-Likelihood:                -224.36\n",
       "No. Observations:                 201   AIC:                             460.7\n",
       "Df Residuals:                     195   BIC:                             480.5\n",
       "Df Model:                           5                                         \n",
       "Covariance Type:            nonrobust                                         \n",
       "================================================================================\n",
       "                   coef    std err          t      P>|t|      [0.025      0.975]\n",
       "--------------------------------------------------------------------------------\n",
       "Intercept        1.4957      0.368      4.063      0.000       0.770       2.222\n",
       "attitude1_03     0.1153      0.100      1.153      0.250      -0.082       0.312\n",
       "attitude1_04     0.0915      0.104      0.877      0.382      -0.114       0.297\n",
       "peruse01         0.3364      0.058      5.848      0.000       0.223       0.450\n",
       "satis01          0.2116      0.100      2.113      0.036       0.014       0.409\n",
       "satis02          0.0627      0.096      0.652      0.515      -0.127       0.252\n",
       "==============================================================================\n",
       "Omnibus:                       49.871   Durbin-Watson:                   2.040\n",
       "Prob(Omnibus):                  0.000   Jarque-Bera (JB):              191.297\n",
       "Skew:                          -0.916   Prob(JB):                     2.89e-42\n",
       "Kurtosis:                       7.414   Cond. No.                         90.9\n",
       "==============================================================================\n",
       "\n",
       "Notes:\n",
       "[1] Standard Errors assume that the covariance matrix of the errors is correctly specified.\n",
       "\"\"\""
      ]
     },
     "execution_count": 25,
     "metadata": {},
     "output_type": "execute_result"
    }
   ],
   "source": [
    "lin_reg.summary()"
   ]
  },
  {
   "cell_type": "markdown",
   "id": "9d90778a-d9db-4a86-b83a-6a764034b157",
   "metadata": {},
   "source": [
    "The Durbin-Watson test is within the acceptable range of 1.5-2.5 indicating the variables are independent of each other. "
   ]
  },
  {
   "cell_type": "markdown",
   "id": "e34e7451-ffd1-4f56-a049-ddbeac07ab0c",
   "metadata": {},
   "source": [
    "## Assess Normailty"
   ]
  },
  {
   "cell_type": "code",
   "execution_count": 26,
   "id": "6cdad2e1-6ebc-43ea-bf9f-483a59a2e58a",
   "metadata": {},
   "outputs": [
    {
     "data": {
      "text/plain": [
       "((array([-2.70235077, -2.39300644, -2.21670641, -2.09047253, -1.99075721,\n",
       "         -1.90762425, -1.83590295, -1.77254445, -1.71559368, -1.66371874,\n",
       "         -1.61596971, -1.57164427, -1.53020786, -1.49124379, -1.45442067,\n",
       "         -1.41947039, -1.38617282, -1.35434495, -1.32383285, -1.29450578,\n",
       "         -1.26625169, -1.2389738 , -1.21258791, -1.18702027, -1.1622059 ,\n",
       "         -1.13808725, -1.11461308, -1.09173755, -1.06941949, -1.04762177,\n",
       "         -1.02631079, -1.005456  , -0.98502958, -0.96500611, -0.94536226,\n",
       "         -0.92607659, -0.90712937, -0.88850233, -0.87017859, -0.85214246,\n",
       "         -0.83437937, -0.81687572, -0.79961884, -0.78259687, -0.76579869,\n",
       "         -0.74921388, -0.73283263, -0.71664571, -0.70064443, -0.68482057,\n",
       "         -0.66916635, -0.65367443, -0.63833783, -0.62314992, -0.60810442,\n",
       "         -0.59319534, -0.57841696, -0.56376385, -0.5492308 , -0.53481284,\n",
       "         -0.52050522, -0.50630336, -0.49220289, -0.47819962, -0.4642895 ,\n",
       "         -0.45046865, -0.43673331, -0.42307988, -0.40950487, -0.39600491,\n",
       "         -0.38257674, -0.3692172 , -0.35592325, -0.3426919 , -0.32952028,\n",
       "         -0.31640558, -0.30334508, -0.29033612, -0.27737611, -0.26446253,\n",
       "         -0.2515929 , -0.23876481, -0.22597589, -0.21322383, -0.20050634,\n",
       "         -0.18782121, -0.17516622, -0.16253923, -0.1499381 , -0.13736074,\n",
       "         -0.12480507, -0.11226904, -0.09975064, -0.08724784, -0.07475867,\n",
       "         -0.06228115, -0.04981332, -0.03735323, -0.02489894, -0.0124485 ,\n",
       "          0.        ,  0.0124485 ,  0.02489894,  0.03735323,  0.04981332,\n",
       "          0.06228115,  0.07475867,  0.08724784,  0.09975064,  0.11226904,\n",
       "          0.12480507,  0.13736074,  0.1499381 ,  0.16253923,  0.17516622,\n",
       "          0.18782121,  0.20050634,  0.21322383,  0.22597589,  0.23876481,\n",
       "          0.2515929 ,  0.26446253,  0.27737611,  0.29033612,  0.30334508,\n",
       "          0.31640558,  0.32952028,  0.3426919 ,  0.35592325,  0.3692172 ,\n",
       "          0.38257674,  0.39600491,  0.40950487,  0.42307988,  0.43673331,\n",
       "          0.45046865,  0.4642895 ,  0.47819962,  0.49220289,  0.50630336,\n",
       "          0.52050522,  0.53481284,  0.5492308 ,  0.56376385,  0.57841696,\n",
       "          0.59319534,  0.60810442,  0.62314992,  0.63833783,  0.65367443,\n",
       "          0.66916635,  0.68482057,  0.70064443,  0.71664571,  0.73283263,\n",
       "          0.74921388,  0.76579869,  0.78259687,  0.79961884,  0.81687572,\n",
       "          0.83437937,  0.85214246,  0.87017859,  0.88850233,  0.90712937,\n",
       "          0.92607659,  0.94536226,  0.96500611,  0.98502958,  1.005456  ,\n",
       "          1.02631079,  1.04762177,  1.06941949,  1.09173755,  1.11461308,\n",
       "          1.13808725,  1.1622059 ,  1.18702027,  1.21258791,  1.2389738 ,\n",
       "          1.26625169,  1.29450578,  1.32383285,  1.35434495,  1.38617282,\n",
       "          1.41947039,  1.45442067,  1.49124379,  1.53020786,  1.57164427,\n",
       "          1.61596971,  1.66371874,  1.71559368,  1.77254445,  1.83590295,\n",
       "          1.90762425,  1.99075721,  2.09047253,  2.21670641,  2.39300644,\n",
       "          2.70235077]),\n",
       "  array([-3.97232801, -2.58306714, -1.91919668, -1.76043926, -1.60728619,\n",
       "         -1.58306714, -1.51549773, -1.40024601, -1.33767006, -1.33297682,\n",
       "         -1.30875777, -1.28045446, -1.12623686, -1.10201782, -1.06411647,\n",
       "         -1.06411647, -1.01128537, -0.9816173 , -0.94371595, -0.91949691,\n",
       "         -0.81841916, -0.7898071 , -0.7898071 , -0.7898071 , -0.73213595,\n",
       "         -0.71275695, -0.67001556, -0.64518754, -0.58306714, -0.58245817,\n",
       "         -0.55476383, -0.52993581, -0.51610671, -0.48243643, -0.46781542,\n",
       "         -0.46781542, -0.43844758, -0.40054623, -0.40054623, -0.40054623,\n",
       "         -0.40054623, -0.40054623, -0.40054623, -0.37632719, -0.33297682,\n",
       "         -0.30936675, -0.30421795, -0.28483895, -0.25653564, -0.21802532,\n",
       "         -0.21802532, -0.21802532, -0.21802532, -0.21802532, -0.21802532,\n",
       "         -0.21802532, -0.21802532, -0.21802532, -0.21802532, -0.21802532,\n",
       "         -0.21802532, -0.21802532, -0.21802532, -0.21802532, -0.21802532,\n",
       "         -0.21802532, -0.21802532, -0.21802532, -0.19834609, -0.19380628,\n",
       "         -0.19380628, -0.19380628, -0.19350605, -0.19350605, -0.18896623,\n",
       "         -0.15529596, -0.13107691, -0.13107691, -0.13107691, -0.12623686,\n",
       "         -0.12623686, -0.12623686, -0.12623686, -0.12623686, -0.1027736 ,\n",
       "         -0.1027736 , -0.097478  , -0.07855455, -0.07855455, -0.0737145 ,\n",
       "         -0.06411647, -0.01582518, -0.01128537, -0.01098514, -0.00644532,\n",
       "         -0.00644532, -0.00644532, -0.00644532,  0.01293368,  0.02322275,\n",
       "          0.05628405,  0.05628405,  0.05628405,  0.05628405,  0.05628405,\n",
       "          0.05628405,  0.05628405,  0.05628405,  0.08050309,  0.10396636,\n",
       "          0.11386462,  0.11840444,  0.11840444,  0.11840444,  0.11840444,\n",
       "          0.11840444,  0.11885999,  0.12339129,  0.14807251,  0.17199133,\n",
       "          0.20535285,  0.20535285,  0.20989267,  0.2101929 ,  0.2101929 ,\n",
       "          0.23365616,  0.23895176,  0.25878441,  0.26271526,  0.26271526,\n",
       "          0.26271526,  0.26271526,  0.26271526,  0.263024  ,  0.263024  ,\n",
       "          0.263024  ,  0.263024  ,  0.263024  ,  0.263024  ,  0.27353124,\n",
       "          0.31554636,  0.3251444 ,  0.32575337,  0.32998444,  0.33059342,\n",
       "          0.33059342,  0.33059342,  0.33059342,  0.34936344,  0.34936344,\n",
       "          0.34997242,  0.3832711 ,  0.38848274,  0.39271381,  0.39271381,\n",
       "          0.39271381,  0.39332278,  0.4548342 ,  0.45544317,  0.46945522,\n",
       "          0.48420204,  0.48450227,  0.50796553,  0.51756357,  0.53733338,\n",
       "          0.56155242,  0.5706949 ,  0.59945377,  0.59945377,  0.59945377,\n",
       "          0.59945377,  0.59945377,  0.60429381,  0.62367281,  0.62882161,\n",
       "          0.63810237,  0.66157416,  0.66218313,  0.69578205,  0.76783683,\n",
       "          0.7822749 ,  0.80619372,  0.81103377,  0.82032306,  0.87376314,\n",
       "          0.87376314,  0.92205442,  0.93104348,  1.14262349,  1.14746353,\n",
       "          1.19575482,  1.20535285,  1.21564192,  1.30168113,  1.33473391,\n",
       "          1.49943203,  1.62912183,  1.69669125,  1.77313243,  1.81178955,\n",
       "          2.0072932 ])),\n",
       " (0.7194166048830468, 1.641630626585781e-15, 0.9629301853349217))"
      ]
     },
     "execution_count": 26,
     "metadata": {},
     "output_type": "execute_result"
    },
    {
     "data": {
      "image/png": "[encoded data removed]",
      "text/plain": [
       "<Figure size 640x480 with 1 Axes>"
      ]
     },
     "metadata": {},
     "output_type": "display_data"
    }
   ],
   "source": [
    "sts.probplot(lin_reg.resid, dist=\"norm\", plot=plt) ## Utlizing a QQ plot "
   ]
  },
  {
   "cell_type": "markdown",
   "id": "9ad22fd5-2520-4bbd-99f4-4db00ffdb745",
   "metadata": {},
   "source": [
    "The points follow the red line fairly closely indicating a normal distribution. "
   ]
  },
  {
   "cell_type": "markdown",
   "id": "765390c9-558c-4881-8759-1e8b86c0ee86",
   "metadata": {},
   "source": [
    "## Assess model's F-test and T-test"
   ]
  },
  {
   "cell_type": "code",
   "execution_count": 33,
   "id": "446b6444-5479-41e5-9a6d-8b9f3177ae16",
   "metadata": {},
   "outputs": [
    {
     "data": {
      "text/html": [
       "<table class=\"simpletable\">\n",
       "<caption>OLS Regression Results</caption>\n",
       "<tr>\n",
       "  <th>Dep. Variable:</th>       <td>intent1_01</td>    <th>  R-squared:         </th> <td>   0.473</td>\n",
       "</tr>\n",
       "<tr>\n",
       "  <th>Model:</th>                   <td>OLS</td>       <th>  Adj. R-squared:    </th> <td>   0.459</td>\n",
       "</tr>\n",
       "<tr>\n",
       "  <th>Method:</th>             <td>Least Squares</td>  <th>  F-statistic:       </th> <td>   34.95</td>\n",
       "</tr>\n",
       "<tr>\n",
       "  <th>Date:</th>             <td>Wed, 23 Apr 2025</td> <th>  Prob (F-statistic):</th> <td>1.96e-25</td>\n",
       "</tr>\n",
       "<tr>\n",
       "  <th>Time:</th>                 <td>11:33:52</td>     <th>  Log-Likelihood:    </th> <td> -224.36</td>\n",
       "</tr>\n",
       "<tr>\n",
       "  <th>No. Observations:</th>      <td>   201</td>      <th>  AIC:               </th> <td>   460.7</td>\n",
       "</tr>\n",
       "<tr>\n",
       "  <th>Df Residuals:</th>          <td>   195</td>      <th>  BIC:               </th> <td>   480.5</td>\n",
       "</tr>\n",
       "<tr>\n",
       "  <th>Df Model:</th>              <td>     5</td>      <th>                     </th>     <td> </td>   \n",
       "</tr>\n",
       "<tr>\n",
       "  <th>Covariance Type:</th>      <td>nonrobust</td>    <th>                     </th>     <td> </td>   \n",
       "</tr>\n",
       "</table>\n",
       "<table class=\"simpletable\">\n",
       "<tr>\n",
       "        <td></td>          <th>coef</th>     <th>std err</th>      <th>t</th>      <th>P>|t|</th>  <th>[0.025</th>    <th>0.975]</th>  \n",
       "</tr>\n",
       "<tr>\n",
       "  <th>Intercept</th>    <td>    1.4957</td> <td>    0.368</td> <td>    4.063</td> <td> 0.000</td> <td>    0.770</td> <td>    2.222</td>\n",
       "</tr>\n",
       "<tr>\n",
       "  <th>attitude1_03</th> <td>    0.1153</td> <td>    0.100</td> <td>    1.153</td> <td> 0.250</td> <td>   -0.082</td> <td>    0.312</td>\n",
       "</tr>\n",
       "<tr>\n",
       "  <th>attitude1_04</th> <td>    0.0915</td> <td>    0.104</td> <td>    0.877</td> <td> 0.382</td> <td>   -0.114</td> <td>    0.297</td>\n",
       "</tr>\n",
       "<tr>\n",
       "  <th>peruse01</th>     <td>    0.3364</td> <td>    0.058</td> <td>    5.848</td> <td> 0.000</td> <td>    0.223</td> <td>    0.450</td>\n",
       "</tr>\n",
       "<tr>\n",
       "  <th>satis01</th>      <td>    0.2116</td> <td>    0.100</td> <td>    2.113</td> <td> 0.036</td> <td>    0.014</td> <td>    0.409</td>\n",
       "</tr>\n",
       "<tr>\n",
       "  <th>satis02</th>      <td>    0.0627</td> <td>    0.096</td> <td>    0.652</td> <td> 0.515</td> <td>   -0.127</td> <td>    0.252</td>\n",
       "</tr>\n",
       "</table>\n",
       "<table class=\"simpletable\">\n",
       "<tr>\n",
       "  <th>Omnibus:</th>       <td>49.871</td> <th>  Durbin-Watson:     </th> <td>   2.040</td>\n",
       "</tr>\n",
       "<tr>\n",
       "  <th>Prob(Omnibus):</th> <td> 0.000</td> <th>  Jarque-Bera (JB):  </th> <td> 191.297</td>\n",
       "</tr>\n",
       "<tr>\n",
       "  <th>Skew:</th>          <td>-0.916</td> <th>  Prob(JB):          </th> <td>2.89e-42</td>\n",
       "</tr>\n",
       "<tr>\n",
       "  <th>Kurtosis:</th>      <td> 7.414</td> <th>  Cond. No.          </th> <td>    90.9</td>\n",
       "</tr>\n",
       "</table><br/><br/>Notes:<br/>[1] Standard Errors assume that the covariance matrix of the errors is correctly specified."
      ],
      "text/latex": [
       "\\begin{center}\n",
       "\\begin{tabular}{lclc}\n",
       "\\toprule\n",
       "\\textbf{Dep. Variable:}    &   intent1\\_01    & \\textbf{  R-squared:         } &     0.473   \\\\\n",
       "\\textbf{Model:}            &       OLS        & \\textbf{  Adj. R-squared:    } &     0.459   \\\\\n",
       "\\textbf{Method:}           &  Least Squares   & \\textbf{  F-statistic:       } &     34.95   \\\\\n",
       "\\textbf{Date:}             & Wed, 23 Apr 2025 & \\textbf{  Prob (F-statistic):} &  1.96e-25   \\\\\n",
       "\\textbf{Time:}             &     11:33:52     & \\textbf{  Log-Likelihood:    } &   -224.36   \\\\\n",
       "\\textbf{No. Observations:} &         201      & \\textbf{  AIC:               } &     460.7   \\\\\n",
       "\\textbf{Df Residuals:}     &         195      & \\textbf{  BIC:               } &     480.5   \\\\\n",
       "\\textbf{Df Model:}         &           5      & \\textbf{                     } &             \\\\\n",
       "\\textbf{Covariance Type:}  &    nonrobust     & \\textbf{                     } &             \\\\\n",
       "\\bottomrule\n",
       "\\end{tabular}\n",
       "\\begin{tabular}{lcccccc}\n",
       "                       & \\textbf{coef} & \\textbf{std err} & \\textbf{t} & \\textbf{P$> |$t$|$} & \\textbf{[0.025} & \\textbf{0.975]}  \\\\\n",
       "\\midrule\n",
       "\\textbf{Intercept}     &       1.4957  &        0.368     &     4.063  &         0.000        &        0.770    &        2.222     \\\\\n",
       "\\textbf{attitude1\\_03} &       0.1153  &        0.100     &     1.153  &         0.250        &       -0.082    &        0.312     \\\\\n",
       "\\textbf{attitude1\\_04} &       0.0915  &        0.104     &     0.877  &         0.382        &       -0.114    &        0.297     \\\\\n",
       "\\textbf{peruse01}      &       0.3364  &        0.058     &     5.848  &         0.000        &        0.223    &        0.450     \\\\\n",
       "\\textbf{satis01}       &       0.2116  &        0.100     &     2.113  &         0.036        &        0.014    &        0.409     \\\\\n",
       "\\textbf{satis02}       &       0.0627  &        0.096     &     0.652  &         0.515        &       -0.127    &        0.252     \\\\\n",
       "\\bottomrule\n",
       "\\end{tabular}\n",
       "\\begin{tabular}{lclc}\n",
       "\\textbf{Omnibus:}       & 49.871 & \\textbf{  Durbin-Watson:     } &    2.040  \\\\\n",
       "\\textbf{Prob(Omnibus):} &  0.000 & \\textbf{  Jarque-Bera (JB):  } &  191.297  \\\\\n",
       "\\textbf{Skew:}          & -0.916 & \\textbf{  Prob(JB):          } & 2.89e-42  \\\\\n",
       "\\textbf{Kurtosis:}      &  7.414 & \\textbf{  Cond. No.          } &     90.9  \\\\\n",
       "\\bottomrule\n",
       "\\end{tabular}\n",
       "%\\caption{OLS Regression Results}\n",
       "\\end{center}\n",
       "\n",
       "Notes: \\newline\n",
       " [1] Standard Errors assume that the covariance matrix of the errors is correctly specified."
      ],
      "text/plain": [
       "<class 'statsmodels.iolib.summary.Summary'>\n",
       "\"\"\"\n",
       "                            OLS Regression Results                            \n",
       "==============================================================================\n",
       "Dep. Variable:             intent1_01   R-squared:                       0.473\n",
       "Model:                            OLS   Adj. R-squared:                  0.459\n",
       "Method:                 Least Squares   F-statistic:                     34.95\n",
       "Date:                Wed, 23 Apr 2025   Prob (F-statistic):           1.96e-25\n",
       "Time:                        11:33:52   Log-Likelihood:                -224.36\n",
       "No. Observations:                 201   AIC:                             460.7\n",
       "Df Residuals:                     195   BIC:                             480.5\n",
       "Df Model:                           5                                         \n",
       "Covariance Type:            nonrobust                                         \n",
       "================================================================================\n",
       "                   coef    std err          t      P>|t|      [0.025      0.975]\n",
       "--------------------------------------------------------------------------------\n",
       "Intercept        1.4957      0.368      4.063      0.000       0.770       2.222\n",
       "attitude1_03     0.1153      0.100      1.153      0.250      -0.082       0.312\n",
       "attitude1_04     0.0915      0.104      0.877      0.382      -0.114       0.297\n",
       "peruse01         0.3364      0.058      5.848      0.000       0.223       0.450\n",
       "satis01          0.2116      0.100      2.113      0.036       0.014       0.409\n",
       "satis02          0.0627      0.096      0.652      0.515      -0.127       0.252\n",
       "==============================================================================\n",
       "Omnibus:                       49.871   Durbin-Watson:                   2.040\n",
       "Prob(Omnibus):                  0.000   Jarque-Bera (JB):              191.297\n",
       "Skew:                          -0.916   Prob(JB):                     2.89e-42\n",
       "Kurtosis:                       7.414   Cond. No.                         90.9\n",
       "==============================================================================\n",
       "\n",
       "Notes:\n",
       "[1] Standard Errors assume that the covariance matrix of the errors is correctly specified.\n",
       "\"\"\""
      ]
     },
     "execution_count": 33,
     "metadata": {},
     "output_type": "execute_result"
    }
   ],
   "source": [
    "lin_reg.summary()"
   ]
  },
  {
   "cell_type": "markdown",
   "id": "7e4afcd4-68ad-4801-82a6-8721054d9c08",
   "metadata": {},
   "source": [
    "## Assess your model's F-test and T-tests. \n",
    "The F-Stat is 34.95 with a p-value of 1.96e-25 indicating that at least one of the variables does have a statistically significant relationship with the dependent variable. \n",
    "\n",
    "### Which variables are significant? \n",
    "Looking at the T-test results and p-values will help us determine which variables are significant. We are looking for a p-value less than 0.05 Based on the P-values of the t-test we can interpret these variables as statistically significant to our regression equation. \n",
    ">>> peruse01  \n",
    ">>> satis01\n",
    "\n",
    "### Choose two significant variables. From a business perspective, why are they significant?\n",
    "It's harder to provide an answer to this without the information behind the data explained, for example what each variable specifically is and repreesents. \n",
    "\n",
    "### Provide the equation for your model and interpret the results.\n",
    "intent1_01=1.4957+0.3364(peruse01)+0.2116(satis01)\n",
    "\n",
    "I chose to only include variables that are statistically significant. The results show a positive relationship between intent1_01 and peruse01 and satis01. Peruse01 seems to have a slightly stronger effect on intent1_01, and theoretically at \"0\" intent1_01 would equal 1.4957."
   ]
  },
  {
   "cell_type": "code",
   "execution_count": null,
   "id": "15f295f4-a396-481e-8c9a-3d74afdbdd02",
   "metadata": {},
   "outputs": [],
   "source": []
  }
 ],
 "metadata": {
  "kernelspec": {
   "display_name": "Python 3 (ipykernel)",
   "language": "python",
   "name": "python3"
  },
  "language_info": {
   "codemirror_mode": {
    "name": "ipython",
    "version": 3
   },
   "file_extension": ".py",
   "mimetype": "text/x-python",
   "name": "python",
   "nbconvert_exporter": "python",
   "pygments_lexer": "ipython3",
   "version": "3.12.7"
  }
 },
 "nbformat": 4,
 "nbformat_minor": 5
}
